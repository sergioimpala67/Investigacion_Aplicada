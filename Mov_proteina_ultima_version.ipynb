{
 "cells": [
  {
   "cell_type": "code",
   "execution_count": 5,
   "metadata": {},
   "outputs": [
    {
     "name": "stdout",
     "output_type": "stream",
     "text": [
      "[[  7.47093803  15.73492051   8.58150875]\n",
      " [  8.2072856   15.84256381   6.95853057]\n",
      " [  8.30145467  16.48991049   7.96247303]\n",
      " ...\n",
      " [ -2.56876117  34.73369193 -11.50608317]\n",
      " [ -2.88030668  34.08458544 -11.59922906]\n",
      " [ -7.47290976  32.85067658 -11.90299847]]\n"
     ]
    },
    {
     "data": {
      "text/plain": [
       "[<matplotlib.lines.Line2D at 0x7fe2720e0630>]"
      ]
     },
     "execution_count": 5,
     "metadata": {},
     "output_type": "execute_result"
    },
    {
     "data": {
      "image/png": "[encoded data removed]",
      "text/plain": [
       "<Figure size 432x288 with 1 Axes>"
      ]
     },
     "metadata": {},
     "output_type": "display_data"
    }
   ],
   "source": [
    "#mover proteina lejos o cerca de la superficie\n",
    "########################################################\n",
    "#abrir archivo donde proteina esta centrada en el sensor archivo.vert\n",
    "import numpy\n",
    "#file=open('1PGB_mut_p1.5_d02_0_0_2.vert','r') #caso original (x=0,h=2,z=0)\n",
    "file=open('1PGB_mut_p1.5_d02_0_0_2_rot200_tilt10.vert','r')\n",
    "#posicion_inicial de Centro geometrico proteina respecto sensor (x=0,z=0,y=?) h=2 --- distancia entre proteina y sensor\n",
    "\n",
    "X=numpy.loadtxt(file)\n",
    "print(X[:,0:3])\n",
    "\n",
    "import matplotlib.pyplot as plt\n",
    "%matplotlib inline\n",
    "\n",
    "#sensor rectangular\n",
    "\n",
    "cx0=numpy.zeros(100) #vista z-x\n",
    "cz0=numpy.zeros(100)\n",
    "x=numpy.zeros(100)\n",
    "z=numpy.zeros(100)\n",
    "x_0=numpy.zeros(100)\n",
    "z_0=numpy.zeros(100)\n",
    "y=numpy.zeros(100)\n",
    "y_0=numpy.zeros(100)\n",
    "y_1=numpy.zeros(100)\n",
    "y_2=numpy.zeros(100)\n",
    "cxmax=numpy.zeros(100)\n",
    "cxmin=numpy.zeros(100)\n",
    "czmax=numpy.zeros(100)\n",
    "czmin=numpy.zeros(100)\n",
    "czmid=numpy.zeros(100)\n",
    "cxmid=numpy.zeros(100)\n",
    "\n",
    "for i in range(len(x)):\n",
    "    x[i]=50\n",
    "    z[i]=50\n",
    "    x_0[i]=-50\n",
    "    z_0[i]=-50\n",
    "    y[i]=50\n",
    "    y_0[i]=-50\n",
    "    y_1[i]=0\n",
    "    y_2[i]=-10\n",
    "    cxmax[i]=max(X[:,0])\n",
    "    cxmin[i]=min(X[:,0])\n",
    "    czmax[i]=max(X[:,2])\n",
    "    czmin[i]=min(X[:,2])\n",
    "    cxmid[i]=0\n",
    "    czmid[i]=0\n",
    "x1=numpy.linspace(-50,50,100) #vista y-x\n",
    "z1=numpy.linspace(-50,50,100)\n",
    "y1=numpy.linspace(-10,0,100)\n",
    "\n",
    "plt.rcParams['font.family'] = 'serif'\n",
    "plt.rcParams['font.size'] = 12\n",
    "plt.plot(X[:,0], X[:,2], color='k', lw=2)\n",
    "plt.plot(x1,z,x1,z_0)\n",
    "plt.plot(x,z1,x_0,z1)\n",
    "plt.plot(cxmax,z1,cxmin,z1)\n",
    "plt.plot(x1,czmax,x1,czmin)\n",
    "plt.plot(cxmid,z1)\n",
    "plt.plot(x1,czmid)\n",
    "\n",
    "\n",
    "\n"
   ]
  },
  {
   "cell_type": "code",
   "execution_count": 7,
   "metadata": {},
   "outputs": [
    {
     "name": "stdout",
     "output_type": "stream",
     "text": [
      "5.0\n"
     ]
    },
    {
     "data": {
      "image/png": "[encoded data removed]",
      "text/plain": [
       "<Figure size 432x288 with 1 Axes>"
      ]
     },
     "metadata": {},
     "output_type": "display_data"
    }
   ],
   "source": [
    "plt.plot(X[:,0], X[:,1], color='k', lw=2)\n",
    "plt.plot(y_0,y1,y,y1)\n",
    "plt.plot(x1,y_1,x1,y_2)\n",
    "\n",
    "print(min(X[:,1]))"
   ]
  },
  {
   "cell_type": "code",
   "execution_count": 28,
   "metadata": {},
   "outputs": [
    {
     "name": "stdout",
     "output_type": "stream",
     "text": [
      "[[-20.4735  14.522   -8.927 ]\n",
      " [-19.8125  12.876   -8.723 ]\n",
      " [-20.2835  13.685   -7.975 ]\n",
      " ..., \n",
      " [  6.8085  10.172    1.174 ]\n",
      " [  6.8085  10.172    0.448 ]\n",
      " [  9.4135  12.668   -2.665 ]]\n"
     ]
    }
   ],
   "source": [
    "#Mover proteina respecto de la superficie\n",
    "Xc=numpy.copy(X)\n",
    "coor_x=5\n",
    "coor_y=0\n",
    "coor_z=5\n",
    "\n",
    "Xc[:,0] -=coor_x\n",
    "Xc[:,2] -=coor_z\n",
    "Xc[:,1] +=coor_y\n",
    "\n",
    "print(Xc[:,0:3])"
   ]
  },
  {
   "cell_type": "code",
   "execution_count": 29,
   "metadata": {},
   "outputs": [
    {
     "data": {
      "text/plain": [
       "[<matplotlib.lines.Line2D at 0x1e9cdc273c8>,\n",
       " <matplotlib.lines.Line2D at 0x1e9cdc306a0>]"
      ]
     },
     "execution_count": 29,
     "metadata": {},
     "output_type": "execute_result"
    },
    {
     "data": {
      "image/png": "[encoded data removed]",
      "text/plain": [
       "<matplotlib.figure.Figure at 0x1e9cdba9668>"
      ]
     },
     "metadata": {},
     "output_type": "display_data"
    }
   ],
   "source": [
    "#sensor rectangular\n",
    "\n",
    "cx0=numpy.zeros(100) #vista z-x\n",
    "cz0=numpy.zeros(100)\n",
    "x=numpy.zeros(100)\n",
    "z=numpy.zeros(100)\n",
    "x_0=numpy.zeros(100)\n",
    "z_0=numpy.zeros(100)\n",
    "y=numpy.zeros(100)\n",
    "y_0=numpy.zeros(100)\n",
    "y_1=numpy.zeros(100)\n",
    "y_2=numpy.zeros(100)\n",
    "cxmax=numpy.zeros(100)\n",
    "cxmin=numpy.zeros(100)\n",
    "czmax=numpy.zeros(100)\n",
    "czmin=numpy.zeros(100)\n",
    "czmid=numpy.zeros(100)\n",
    "cxmid=numpy.zeros(100)\n",
    "\n",
    "for i in range(len(x)):\n",
    "    x[i]=50\n",
    "    z[i]=50\n",
    "    x_0[i]=-50\n",
    "    z_0[i]=-50\n",
    "    y[i]=50\n",
    "    y_0[i]=-50\n",
    "    y_1[i]=0\n",
    "    y_2[i]=-10\n",
    "\n",
    "    \n",
    "x1=numpy.linspace(-50,50,100) #vista y-x\n",
    "z1=numpy.linspace(-50,50,100)\n",
    "y1=numpy.linspace(-10,0,100)\n",
    "\n",
    "plt.rcParams['font.family'] = 'serif'\n",
    "plt.rcParams['font.size'] = 12\n",
    "plt.plot(Xc[:,0], Xc[:,2], color='k', lw=2)\n",
    "plt.plot(x1,z,x1,z_0)\n",
    "plt.plot(x,z1,x_0,z1)\n",
    "\n"
   ]
  },
  {
   "cell_type": "code",
   "execution_count": 30,
   "metadata": {},
   "outputs": [
    {
     "data": {
      "text/plain": [
       "[<matplotlib.lines.Line2D at 0x1e9cddb4a20>,\n",
       " <matplotlib.lines.Line2D at 0x1e9cddbdcf8>]"
      ]
     },
     "execution_count": 30,
     "metadata": {},
     "output_type": "execute_result"
    },
    {
     "data": {
      "image/png": "[encoded data removed]",
      "text/plain": [
       "<matplotlib.figure.Figure at 0x1e9cdbb44e0>"
      ]
     },
     "metadata": {},
     "output_type": "display_data"
    }
   ],
   "source": [
    "plt.plot(Xc[:,0], Xc[:,1], color='k', lw=2)\n",
    "plt.plot(y_0,y1,y,y1)\n",
    "plt.plot(x1,y_1,x1,y_2)"
   ]
  },
  {
   "cell_type": "code",
   "execution_count": 31,
   "metadata": {
    "collapsed": true
   },
   "outputs": [],
   "source": [
    "file2=open('1PGB_mut_p1.5_d02_'+str(coor_x)+'_'+str(coor_z)+'_'+str(coor_y + 2)+'.vert','w')\n",
    "for i in range(len(X[:,1])):\n",
    "    x=Xc[i,:]\n",
    "    linea = '{0} {1} {2} {3} {4} {5} {6} {7} {8}\\n'.format(x[0],x[1],x[2],x[3],x[4],x[5],x[6],x[7],x[8])\n",
    "    file2.write(linea)\n",
    "file2.close()\n",
    "file.close()"
   ]
  },
  {
   "cell_type": "code",
   "execution_count": 32,
   "metadata": {
    "collapsed": true
   },
   "outputs": [],
   "source": [
    "#########################################################################################################"
   ]
  },
  {
   "cell_type": "code",
   "execution_count": 33,
   "metadata": {
    "collapsed": true
   },
   "outputs": [],
   "source": [
    "#mover atomos_archivo.pqr\n",
    "\n",
    "file3=open('1PGB_mut_0_0_2.pqr','r')\n",
    "file4=open('xyz_PGB_pqr.txt','w')\n",
    "for line in file3:\n",
    "    line_2=line.split()\n",
    "    if line_2[0]=='ATOM':\n",
    "        linea='{0} {1} {2}\\n'.format(line_2[5],line_2[6],line_2[7])\n",
    "        file4.write(linea)\n",
    "file4.close()\n",
    "file3.close()\n",
    "\n",
    "file5=open(\"xyz_PGB_pqr.txt\",'r')\n",
    "Y=numpy.loadtxt(file5)\n",
    "Yc=numpy.copy(Y)\n",
    "Yc[:,0] -= coor_x #coordenadax\n",
    "Yc[:,1] += coor_y #coordenaday\n",
    "Yc[:,2] -= coor_z #coordenadaz\n",
    "\n",
    "file6=open(\"1PGB_mut_0_0_2.pqr\",'r')\n",
    "file7=open('1PGB_mut_'+str(coor_x)+'_'+str(coor_z)+'_'+str(coor_y + 2)+'.pqr','w')\n",
    "\n",
    "contador=0\n",
    "for line_4 in file6:\n",
    "    line_5=line.split()\n",
    "    \n",
    "    if line_5[0]=='ATOM':\n",
    "        contador += 1\n",
    "        xx=Yc[contador - 1,:]\n",
    "        x=line_5\n",
    "        linea = '{0} {1} {2} {3} {4} {5} {6} {7} {8} {9}\\n'.format(x[0],x[1],x[2],x[3],x[4],xx[0],xx[1],xx[2],x[8],x[9])\n",
    "        file7.write(linea)\n",
    "        \n",
    "file7.close()\n",
    "file6.close()\n",
    "file5.close()"
   ]
  },
  {
   "cell_type": "code",
   "execution_count": 34,
   "metadata": {
    "collapsed": true
   },
   "outputs": [],
   "source": [
    "###########################################################################################################################"
   ]
  },
  {
   "cell_type": "code",
   "execution_count": 38,
   "metadata": {},
   "outputs": [
    {
     "name": "stdout",
     "output_type": "stream",
     "text": [
      "[[ 50. -10. -50.]\n",
      " [ 50. -10. -49.]\n",
      " [ 50. -10. -48.]\n",
      " ..., \n",
      " [ 50.  -2. -50.]\n",
      " [ 50.  -1. -50.]\n",
      " [ 50.   0. -50.]]\n"
     ]
    }
   ],
   "source": [
    "#mover superficie sensor a una distancia R ----> inf donde R es la distancia entre los centros de la superficie y la \n",
    "#proteina.\n",
    "\n",
    "file8=open('sensor_100x10x100_d02.vert','r')\n",
    "file9=open('sensor_100x10x100_d02_-4e-5-4e-5-4e-5-4e-5-4e-5-4e-5.phi0','r')\n",
    "file9.close()\n",
    "file10=open('sensor_100x10x100_d02_isolated.vert','w')\n",
    "\n",
    "K=numpy.loadtxt(file8)\n",
    "print(K)"
   ]
  },
  {
   "cell_type": "code",
   "execution_count": 48,
   "metadata": {},
   "outputs": [
    {
     "data": {
      "text/plain": [
       "[<matplotlib.lines.Line2D at 0x1e9ce016ac8>]"
      ]
     },
     "execution_count": 48,
     "metadata": {},
     "output_type": "execute_result"
    },
    {
     "data": {
      "image/png": "[encoded data removed]",
      "text/plain": [
       "<matplotlib.figure.Figure at 0x1e9ce016be0>"
      ]
     },
     "metadata": {},
     "output_type": "display_data"
    }
   ],
   "source": [
    "plt.plot(K[:,0], K[:,1], color='k', lw=2)\n",
    "plt.plot(X[:,0], X[:,1], color='k', lw=2)"
   ]
  },
  {
   "cell_type": "code",
   "execution_count": 40,
   "metadata": {},
   "outputs": [
    {
     "data": {
      "text/plain": [
       "[<matplotlib.lines.Line2D at 0x1e9ce0d10f0>]"
      ]
     },
     "execution_count": 40,
     "metadata": {},
     "output_type": "execute_result"
    },
    {
     "data": {
      "image/png": "[encoded data removed]",
      "text/plain": [
       "<matplotlib.figure.Figure at 0x1e9ce1d0d30>"
      ]
     },
     "metadata": {},
     "output_type": "display_data"
    }
   ],
   "source": [
    "plt.plot(K[:,0], K[:,2], color='k', lw=2)"
   ]
  },
  {
   "cell_type": "code",
   "execution_count": 42,
   "metadata": {},
   "outputs": [
    {
     "name": "stdout",
     "output_type": "stream",
     "text": [
      "[[ 50. -10. -50.]\n",
      " [ 50. -10. -49.]\n",
      " [ 50. -10. -48.]\n",
      " ..., \n",
      " [ 50.  -2. -50.]\n",
      " [ 50.  -1. -50.]\n",
      " [ 50.   0. -50.]]\n",
      "[[ 100050.   99990.   99950.]\n",
      " [ 100050.   99990.   99951.]\n",
      " [ 100050.   99990.   99952.]\n",
      " ..., \n",
      " [ 100050.   99998.   99950.]\n",
      " [ 100050.   99999.   99950.]\n",
      " [ 100050.  100000.   99950.]]\n"
     ]
    }
   ],
   "source": [
    "inf_x=100000\n",
    "inf_y=100000\n",
    "inf_z=100000\n",
    "\n",
    "Kc=numpy.copy(K)\n",
    "print(Kc)\n",
    "Kc[:,0] +=inf_x\n",
    "Kc[:,1] +=inf_y\n",
    "Kc[:,2] +=inf_z\n",
    "print(Kc)"
   ]
  },
  {
   "cell_type": "code",
   "execution_count": 49,
   "metadata": {},
   "outputs": [
    {
     "data": {
      "text/plain": [
       "[<matplotlib.lines.Line2D at 0x1e9ce0b6ef0>]"
      ]
     },
     "execution_count": 49,
     "metadata": {},
     "output_type": "execute_result"
    },
    {
     "data": {
      "image/png": "[encoded data removed]",
      "text/plain": [
       "<matplotlib.figure.Figure at 0x1e9ce0b6908>"
      ]
     },
     "metadata": {},
     "output_type": "display_data"
    }
   ],
   "source": [
    "plt.plot(Kc[:,0], Kc[:,1], color='k', lw=2)\n",
    "plt.plot(Xc[:,0], Xc[:,1], color='k', lw=2)"
   ]
  },
  {
   "cell_type": "code",
   "execution_count": 51,
   "metadata": {},
   "outputs": [
    {
     "data": {
      "text/plain": [
       "[<matplotlib.lines.Line2D at 0x1e9d0390a20>]"
      ]
     },
     "execution_count": 51,
     "metadata": {},
     "output_type": "execute_result"
    },
    {
     "data": {
      "image/png": "[encoded data removed]",
      "text/plain": [
       "<matplotlib.figure.Figure at 0x1e9d0341630>"
      ]
     },
     "metadata": {},
     "output_type": "display_data"
    }
   ],
   "source": [
    "plt.plot(Kc[:,0], Kc[:,2], color='k', lw=2)"
   ]
  },
  {
   "cell_type": "code",
   "execution_count": 52,
   "metadata": {
    "collapsed": true
   },
   "outputs": [],
   "source": [
    "for i in range(len(K[:,1])):\n",
    "    k=Kc[i,:]\n",
    "    linea = '{0} {1} {2}\\n'.format(k[0],k[1],k[2])\n",
    "    file10.write(linea)\n",
    "file10.close()"
   ]
  },
  {
   "cell_type": "code",
   "execution_count": null,
   "metadata": {
    "collapsed": true
   },
   "outputs": [],
   "source": []
  }
 ],
 "metadata": {
  "kernelspec": {
   "display_name": "Python 3",
   "language": "python",
   "name": "python3"
  },
  "language_info": {
   "codemirror_mode": {
    "name": "ipython",
    "version": 3
   },
   "file_extension": ".py",
   "mimetype": "text/x-python",
   "name": "python",
   "nbconvert_exporter": "python",
   "pygments_lexer": "ipython3",
   "version": "3.6.5"
  }
 },
 "nbformat": 4,
 "nbformat_minor": 2
}
